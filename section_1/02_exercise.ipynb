{
  "cells": [
    {
      "attachments": {},
      "cell_type": "markdown",
      "metadata": {
        "colab_type": "text",
        "id": "view-in-github"
      },
      "source": [
        "<a href=\"https://colab.research.google.com/github/yukinaga/image_classification/blob/main/section_1/02_exercise.ipynb\" target=\"_parent\"><img src=\"https://colab.research.google.com/assets/colab-badge.svg\" alt=\"Open In Colab\"/></a>"
      ]
    },
    {
      "attachments": {},
      "cell_type": "markdown",
      "metadata": {
        "id": "l1iDDDhCGdRk"
      },
      "source": [
        "# 演習\n",
        "Tensor同士の演算を練習しましょう。  "
      ]
    },
    {
      "attachments": {},
      "cell_type": "markdown",
      "metadata": {
        "id": "Jc1YsICDjmgv"
      },
      "source": [
        "## Tensor同士の演算\n",
        "以下のコードにおけるTensor、`a`と`b`の間で演算を行い、結果を表示しましょう。  \n",
        "`a`は2次元のTensorで`b`は1次元のTensorなので、ブロードキャストが必要です。  "
      ]
    },
    {
      "cell_type": "code",
      "execution_count": 10,
      "metadata": {
        "id": "vQjm5IIwFzfQ"
      },
      "outputs": [
        {
          "name": "stdout",
          "output_type": "stream",
          "text": [
            "--- 和 ---\n",
            "tensor([[12, 14, 16],\n",
            "        [15, 17, 19]])\n",
            "--- 差 ---\n",
            "tensor([[10, 10, 10],\n",
            "        [13, 13, 13]])\n",
            "--- 積 ---\n",
            "tensor([[11, 24, 39],\n",
            "        [14, 30, 48]])\n",
            "--- 商（小数） ---\n",
            "tensor([[11.0000,  6.0000,  4.3333],\n",
            "        [14.0000,  7.5000,  5.3333]])\n",
            "--- 商（整数） ---\n",
            "tensor([[11,  6,  4],\n",
            "        [14,  7,  5]])\n",
            "--- 余り ---\n",
            "tensor([[0, 0, 1],\n",
            "        [0, 1, 1]])\n"
          ]
        }
      ],
      "source": [
        "import torch\n",
        "\n",
        "a = torch.tensor([[11, 12, 13],\n",
        "                  [14, 15, 16]])\n",
        "b = torch.tensor([1, 2, 3]) \n",
        "\n",
        "print(\"--- 和 ---\")\n",
        "print(a + b)\n",
        "\n",
        "\n",
        "print(\"--- 差 ---\")\n",
        "print(a - b)\n",
        "\n",
        "print(\"--- 積 ---\")\n",
        "print(a * b)\n",
        "\n",
        "\n",
        "print(\"--- 商（小数） ---\")\n",
        "print(a / b)\n",
        "\n",
        "print(\"--- 商（整数） ---\")\n",
        "print(a // b)\n",
        "\n",
        "\n",
        "print(\"--- 余り ---\")\n",
        "print(a % b)\n"
      ]
    },
    {
      "attachments": {},
      "cell_type": "markdown",
      "metadata": {
        "id": "BEW_lUs3PJCQ"
      },
      "source": [
        "### 〇解答例\n",
        "以下は解答例です。"
      ]
    },
    {
      "cell_type": "code",
      "execution_count": null,
      "metadata": {
        "id": "imyJ_CUEPNgW"
      },
      "outputs": [],
      "source": [
        "import torch\n",
        "\n",
        "a = torch.tensor([[11, 12, 13],\n",
        "                  [14, 15, 16]])\n",
        "b = torch.tensor([1, 2, 3]) \n",
        "\n",
        "print(\"--- 和 ---\")\n",
        "print(a + b)\n",
        "\n",
        "print(\"--- 差 ---\")\n",
        "print(a - b)\n",
        "\n",
        "print(\"--- 積 ---\")\n",
        "print(a * b)\n",
        "\n",
        "print(\"--- 商（小数） ---\")\n",
        "print(a / b)\n",
        "\n",
        "print(\"--- 商（整数） ---\")\n",
        "print(a // b)\n",
        "\n",
        "print(\"--- 余り ---\")\n",
        "print(a % b)"
      ]
    }
  ],
  "metadata": {
    "colab": {
      "authorship_tag": "ABX9TyMxO9hS1zzHAL995I+28SD5",
      "collapsed_sections": [],
      "include_colab_link": true,
      "name": "02_exercise.ipynb",
      "provenance": []
    },
    "kernelspec": {
      "display_name": "Python 3",
      "name": "python3"
    },
    "language_info": {
      "codemirror_mode": {
        "name": "ipython",
        "version": 3
      },
      "file_extension": ".py",
      "mimetype": "text/x-python",
      "name": "python",
      "nbconvert_exporter": "python",
      "pygments_lexer": "ipython3",
      "version": "3.11.4"
    }
  },
  "nbformat": 4,
  "nbformat_minor": 0
}
