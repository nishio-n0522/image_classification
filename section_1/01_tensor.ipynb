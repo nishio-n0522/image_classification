{
  "cells": [
    {
      "attachments": {},
      "cell_type": "markdown",
      "metadata": {
        "colab_type": "text",
        "id": "view-in-github"
      },
      "source": [
        "<a href=\"https://colab.research.google.com/github/yukinaga/image_classification/blob/main/section_1/01_tensor.ipynb\" target=\"_parent\"><img src=\"https://colab.research.google.com/assets/colab-badge.svg\" alt=\"Open In Colab\"/></a>"
      ]
    },
    {
      "attachments": {},
      "cell_type": "markdown",
      "metadata": {
        "id": "qBeK8bWc4a_9"
      },
      "source": [
        "# Tensor\n",
        "TensorはPyTorchにおいて最も基本となるデータ構造です。  \n",
        "Tensorを操作するための様々なコードを、Google Colacoratoryで練習しましょう。"
      ]
    },
    {
      "attachments": {},
      "cell_type": "markdown",
      "metadata": {
        "id": "ztIkOM_N5Bu7"
      },
      "source": [
        "## PyTorchの確認\n",
        "環境にインストール済みのパッケージを全て表示し、「torch」という名前でPyTorchがインストールされていることを確認します。"
      ]
    },
    {
      "cell_type": "code",
      "execution_count": 1,
      "metadata": {
        "id": "SLrzxL39qGie"
      },
      "outputs": [
        {
          "name": "stdout",
          "output_type": "stream",
          "text": [
            "Package                  Version\n",
            "------------------------ ------------\n",
            "anyio                    3.7.0\n",
            "argon2-cffi              21.3.0\n",
            "argon2-cffi-bindings     21.2.0\n",
            "arrow                    1.2.3\n",
            "asttokens                2.2.1\n",
            "attrs                    23.1.0\n",
            "backcall                 0.2.0\n",
            "beautifulsoup4           4.12.2\n",
            "bleach                   6.0.0\n",
            "certifi                  2022.12.7\n",
            "cffi                     1.15.1\n",
            "charset-normalizer       2.1.1\n",
            "colorama                 0.4.6\n",
            "comm                     0.1.3\n",
            "debugpy                  1.6.7\n",
            "decorator                5.1.1\n",
            "defusedxml               0.7.1\n",
            "executing                1.2.0\n",
            "fastjsonschema           2.17.1\n",
            "filelock                 3.9.0\n",
            "fqdn                     1.5.1\n",
            "idna                     3.4\n",
            "ipykernel                6.23.3\n",
            "ipython                  8.14.0\n",
            "ipython-genutils         0.2.0\n",
            "isoduration              20.11.0\n",
            "jedi                     0.18.2\n",
            "Jinja2                   3.1.2\n",
            "jsonpointer              2.4\n",
            "jsonschema               4.17.3\n",
            "jupyter_client           8.3.0\n",
            "jupyter_core             5.3.1\n",
            "jupyter-events           0.6.3\n",
            "jupyter_server           2.6.0\n",
            "jupyter_server_terminals 0.4.4\n",
            "jupyterlab-pygments      0.2.2\n",
            "MarkupSafe               2.1.3\n",
            "matplotlib-inline        0.1.6\n",
            "mistune                  3.0.1\n",
            "mpmath                   1.2.1\n",
            "nbclassic                1.0.0\n",
            "nbclient                 0.8.0\n",
            "nbconvert                7.6.0\n",
            "nbformat                 5.9.0\n",
            "nest-asyncio             1.5.6\n",
            "networkx                 3.0\n",
            "notebook                 6.5.4\n",
            "notebook_shim            0.2.3\n",
            "numpy                    1.24.1\n",
            "overrides                7.3.1\n",
            "packaging                23.1\n",
            "pandocfilters            1.5.0\n",
            "parso                    0.8.3\n",
            "pickleshare              0.7.5\n",
            "Pillow                   9.3.0\n",
            "pip                      23.1.2\n",
            "platformdirs             3.8.0\n",
            "prometheus-client        0.17.0\n",
            "prompt-toolkit           3.0.38\n",
            "psutil                   5.9.5\n",
            "pure-eval                0.2.2\n",
            "pycparser                2.21\n",
            "Pygments                 2.15.1\n",
            "pyrsistent               0.19.3\n",
            "python-dateutil          2.8.2\n",
            "python-json-logger       2.0.7\n",
            "pywin32                  306\n",
            "pywinpty                 2.0.10\n",
            "PyYAML                   6.0\n",
            "pyzmq                    25.1.0\n",
            "requests                 2.28.1\n",
            "rfc3339-validator        0.1.4\n",
            "rfc3986-validator        0.1.1\n",
            "Send2Trash               1.8.2\n",
            "setuptools               65.5.0\n",
            "six                      1.16.0\n",
            "sniffio                  1.3.0\n",
            "soupsieve                2.4.1\n",
            "stack-data               0.6.2\n",
            "sympy                    1.11.1\n",
            "terminado                0.17.1\n",
            "tinycss2                 1.2.1\n",
            "torch                    2.0.1+cu118\n",
            "torchaudio               2.0.2+cu118\n",
            "torchvision              0.15.2+cu118\n",
            "tornado                  6.3.2\n",
            "traitlets                5.9.0\n",
            "typing_extensions        4.4.0\n",
            "uri-template             1.3.0\n",
            "urllib3                  1.26.13\n",
            "wcwidth                  0.2.6\n",
            "webcolors                1.13\n",
            "webencodings             0.5.1\n",
            "websocket-client         1.6.1\n"
          ]
        }
      ],
      "source": [
        "!pip list"
      ]
    },
    {
      "attachments": {},
      "cell_type": "markdown",
      "metadata": {
        "id": "EMC135bx6E3u"
      },
      "source": [
        "## Tensorを生成する\n",
        "以下のコードは、torchの`tensor()`関数により、PythonのリストからTensorを生成します。    \n",
        "type()により型の確認も行います。  "
      ]
    },
    {
      "cell_type": "code",
      "execution_count": 2,
      "metadata": {
        "id": "xCg7mgXPqBc8"
      },
      "outputs": [
        {
          "name": "stdout",
          "output_type": "stream",
          "text": [
            "tensor([12, 13, 14]) <class 'torch.Tensor'>\n"
          ]
        }
      ],
      "source": [
        "import torch\n",
        "\n",
        "a = torch.tensor([12,13,14])\n",
        "print(a, type(a))"
      ]
    },
    {
      "attachments": {},
      "cell_type": "markdown",
      "metadata": {
        "id": "6LcfIq4nWfG2"
      },
      "source": [
        "以下は、他の生成方法です。"
      ]
    },
    {
      "cell_type": "code",
      "execution_count": 3,
      "metadata": {
        "id": "3X2TN2rYtCTO"
      },
      "outputs": [
        {
          "name": "stdout",
          "output_type": "stream",
          "text": [
            "--- 2次元のリストから生成 ---\n",
            "tensor([[11, 12],\n",
            "        [13, 14]])\n",
            "--- dtypeを指定し、倍精度のTensorにする ---\n",
            "tensor([[11., 12.],\n",
            "        [13., 14.]], dtype=torch.float64)\n",
            "--- 0から19までの数値で初期化 ---\n",
            "tensor([ 0,  1,  2,  3,  4,  5,  6,  7,  8,  9, 10, 11, 12, 13, 14, 15, 16, 17,\n",
            "        18, 19])\n",
            "--- すべての値が0の、3×4のTensor ---\n",
            "tensor([[0., 0., 0., 0.],\n",
            "        [0., 0., 0., 0.],\n",
            "        [0., 0., 0., 0.]])\n",
            "--- すべての値が乱数の、3×4のTensor ---\n",
            "tensor([[0.4709, 0.5733, 0.2598, 0.1746],\n",
            "        [0.9552, 0.1631, 0.2612, 0.3427],\n",
            "        [0.5502, 0.6415, 0.5068, 0.7943]])\n",
            "--- 形状はsizeメソッドで取得 ---\n",
            "torch.Size([3, 4])\n"
          ]
        }
      ],
      "source": [
        "print(\"--- 2次元のリストから生成 ---\")\n",
        "b = torch.tensor([[11, 12],\n",
        "                  [13, 14]])\n",
        "print(b)\n",
        "\n",
        "print(\"--- dtypeを指定し、倍精度のTensorにする ---\")\n",
        "c = torch.tensor([[11, 12],\n",
        "                  [13, 14]], dtype=torch.float64)\n",
        "print(c)\n",
        "\n",
        "print(\"--- 0から19までの数値で初期化 ---\")\n",
        "d = torch.arange(0, 20)\n",
        "print(d)\n",
        "\n",
        "print(\"--- すべての値が0の、3×4のTensor ---\")\n",
        "e = torch.zeros(3, 4)\n",
        "print(e)\n",
        "\n",
        "print(\"--- すべての値が乱数の、3×4のTensor ---\")\n",
        "f = torch.rand(3, 4)\n",
        "print(f)\n",
        "\n",
        "print(\"--- 形状はsizeメソッドで取得 ---\")\n",
        "print(f.size())"
      ]
    },
    {
      "attachments": {},
      "cell_type": "markdown",
      "metadata": {
        "id": "b-TrDK5qewJp"
      },
      "source": [
        "## TensorとNumPyの配列の相互変換\n",
        "機械学習では、数値演算ライブラリNumPyの配列がよく使われます。  \n",
        "以下は、TensorとNumPyの相互変換のコードです。  "
      ]
    },
    {
      "cell_type": "code",
      "execution_count": 4,
      "metadata": {
        "id": "VdQc9-L5gBFZ"
      },
      "outputs": [
        {
          "name": "stdout",
          "output_type": "stream",
          "text": [
            "--- Tensor → NumPy ---\n",
            "[[11 12]\n",
            " [13 14]]\n",
            "--- NumPy → Tensor ---\n",
            "tensor([[11, 12],\n",
            "        [13, 14]])\n"
          ]
        }
      ],
      "source": [
        "print(\"--- Tensor → NumPy ---\")\n",
        "a = torch.tensor([[11, 12],\n",
        "                  [13, 14]])\n",
        "b = a.numpy()\n",
        "print(b)\n",
        "\n",
        "print(\"--- NumPy → Tensor ---\")\n",
        "c = torch.from_numpy(b)\n",
        "print(c)"
      ]
    },
    {
      "attachments": {},
      "cell_type": "markdown",
      "metadata": {
        "id": "CgpWSmhXnas_"
      },
      "source": [
        "## 範囲を指定してアクセス\n",
        "Tensorの一部に、範囲を指定してアクセスすることができます。"
      ]
    },
    {
      "cell_type": "code",
      "execution_count": 10,
      "metadata": {
        "id": "MgWk6RXMoX_l"
      },
      "outputs": [
        {
          "name": "stdout",
          "output_type": "stream",
          "text": [
            "--- 2つのインデックスを指定 ---\n",
            "tensor(14)\n",
            "--- 範囲を指定 ---\n",
            "tensor([[11, 12],\n",
            "        [14, 15]])\n",
            "--- 3より大きい要素のみを指定 ---\n",
            "tensor([14, 15, 16])\n",
            "--- 要素の変更 ---\n",
            "tensor([[11, 12, 11],\n",
            "        [14, 15, 16]])\n",
            "--- ある次元の要素を一括変更 ---\n",
            "tensor([[11, 22, 11],\n",
            "        [14, 22, 16]])\n"
          ]
        }
      ],
      "source": [
        "a = torch.tensor([[11, 12, 13],\n",
        "                  [14, 15, 16]])\n",
        "\n",
        "print(\"--- 2つのインデックスを指定 ---\")\n",
        "print(a[1, 0])\n",
        "\n",
        "print(\"--- 範囲を指定 ---\")\n",
        "print(a[0:2, :2])\n",
        "\n",
        "print(\"--- 3より大きい要素のみを指定 ---\")\n",
        "print(a[a>13])\n",
        "\n",
        "print(\"--- 要素の変更 ---\")\n",
        "a[0, 2] = 11\n",
        "print(a)\n",
        "\n",
        "print(\"--- ある次元の要素を一括変更 ---\")\n",
        "a[:, 1] = 22\n",
        "print(a)"
      ]
    },
    {
      "attachments": {},
      "cell_type": "markdown",
      "metadata": {
        "id": "2HQMM_Fh02of"
      },
      "source": [
        "## Tensorの演算\n",
        "以下は、Tensor同士の演算の例です。"
      ]
    },
    {
      "cell_type": "code",
      "execution_count": 11,
      "metadata": {
        "id": "AQ5IsU0Fz-DJ"
      },
      "outputs": [
        {
          "name": "stdout",
          "output_type": "stream",
          "text": [
            "--- ベクトルとスカラーの演算 ---\n",
            "tensor([14, 15, 16])\n",
            "--- ベクトル同士の演算 ---\n",
            "tensor([25, 27, 29])\n",
            "--- 行列とスカラーの演算 ---\n",
            "tensor([[18, 17, 16],\n",
            "        [15, 14, 13]])\n",
            "--- 行列とベクトルの演算（ブロードキャスト） ---\n",
            "tensor([[27, 27, 27],\n",
            "        [24, 24, 24]])\n",
            "--- 行列同士の演算 ---\n",
            "tensor([[32, 30, 28],\n",
            "        [26, 24, 22]])\n"
          ]
        }
      ],
      "source": [
        "# ベクトル\n",
        "a = torch.tensor([11, 12, 13]) \n",
        "b = torch.tensor([14, 15, 16])\n",
        "\n",
        "# 行列\n",
        "c = torch.tensor([[16, 15, 14],\n",
        "                  [13, 12, 11]])\n",
        "\n",
        "print(\"--- ベクトルとスカラーの演算 ---\")\n",
        "print(a + 3)\n",
        "\n",
        "print(\"--- ベクトル同士の演算 ---\")\n",
        "print(a + b) \n",
        "\n",
        "print(\"--- 行列とスカラーの演算 ---\")\n",
        "print(c + 2)\n",
        "\n",
        "print(\"--- 行列とベクトルの演算（ブロードキャスト） ---\")\n",
        "print(c + a)\n",
        "\n",
        "print(\"--- 行列同士の演算 ---\")\n",
        "print(c + c)"
      ]
    },
    {
      "attachments": {},
      "cell_type": "markdown",
      "metadata": {
        "id": "op7j4u0HR8YY"
      },
      "source": [
        "ブロードキャストは、条件を満たしていれば形状が異なるTensor同士でも演算が可能になる機能です。"
      ]
    },
    {
      "attachments": {},
      "cell_type": "markdown",
      "metadata": {
        "id": "C1otpuXxCb84"
      },
      "source": [
        "## Tensorの形状変換\n",
        "`view()`を使えば、Tensorの形状を自由に変更することができます。"
      ]
    },
    {
      "cell_type": "code",
      "execution_count": 12,
      "metadata": {
        "id": "-4lOt6alFDfZ"
      },
      "outputs": [
        {
          "name": "stdout",
          "output_type": "stream",
          "text": [
            "tensor([[ 0,  1,  2,  3],\n",
            "        [ 4,  5,  6,  7],\n",
            "        [ 8,  9, 10, 11]])\n"
          ]
        }
      ],
      "source": [
        "a = torch.tensor([0, 1, 2, 3, 4, 5, 6, 7, 8, 9, 10 ,11])  # 1次元のTensor\n",
        "b = a.view(3, 4)  # (3, 4)の2次元のTensorに変換\n",
        "print(b)"
      ]
    },
    {
      "attachments": {},
      "cell_type": "markdown",
      "metadata": {
        "id": "UKoNGKogFAW-"
      },
      "source": [
        "引数のうち1つを-1にすれば、その次元の要素数は自動計算されます。  "
      ]
    },
    {
      "cell_type": "code",
      "execution_count": 13,
      "metadata": {
        "id": "zww6M6npGj6D"
      },
      "outputs": [
        {
          "name": "stdout",
          "output_type": "stream",
          "text": [
            "tensor([[ 0,  1,  2,  3],\n",
            "        [ 4,  5,  6,  7],\n",
            "        [ 8,  9, 10, 11]])\n"
          ]
        }
      ],
      "source": [
        "c = torch.tensor([0, 1, 2, 3, 4, 5, 6, 7, 8, 9, 10 ,11])  # 1次元のTensor\n",
        "d = c.view(3, -1)  # (3, 4)の2次元のTensorに変換\n",
        "print(d)"
      ]
    },
    {
      "attachments": {},
      "cell_type": "markdown",
      "metadata": {
        "id": "aY6BFdhrIhOH"
      },
      "source": [
        "`view()`の引数を-1のみにすると、1次元に変換されます。  "
      ]
    },
    {
      "cell_type": "code",
      "execution_count": 19,
      "metadata": {
        "id": "m2WviA82IhOI"
      },
      "outputs": [
        {
          "name": "stdout",
          "output_type": "stream",
          "text": [
            "tensor([[[11, 12],\n",
            "         [13, 14]],\n",
            "\n",
            "        [[15, 16],\n",
            "         [17, 18]]])\n",
            "tensor([11, 12, 13, 14, 15, 16, 17, 18])\n",
            "tensor(15)\n"
          ]
        }
      ],
      "source": [
        "e = torch.tensor([[[11, 12],\n",
        "                   [13, 14]], \n",
        "                  [[15, 16],\n",
        "                   [17, 18]]])  # 3次元のTensor\n",
        "print(e)\n",
        "f = e.view(-1)  # 1次元のTensorに変換\n",
        "print(f)\n",
        "\n",
        "print(e[1,0,0])"
      ]
    },
    {
      "attachments": {},
      "cell_type": "markdown",
      "metadata": {
        "id": "r0S-nN_c8MKr"
      },
      "source": [
        "## 統計値の計算\n",
        "Tensorには、様々な統計値を計算する関数とメソッドが用意されています。  \n",
        "Tensorから通常の値を取り出すためには、`item()`メソッドを使います。\n"
      ]
    },
    {
      "cell_type": "code",
      "execution_count": 23,
      "metadata": {
        "id": "X_LIWIwI59rI"
      },
      "outputs": [
        {
          "name": "stdout",
          "output_type": "stream",
          "text": [
            "--- 平均値（関数） ---\n",
            "tensor(13.5000) <class 'torch.Tensor'>\n",
            "13.5\n",
            "--- 平均値（メソッド） ---\n",
            "13.5\n",
            "--- 列ごとの平均値 ---\n",
            "tensor([12.5000, 13.5000, 14.5000])\n",
            "--- 合計値 ---\n",
            "81.0\n",
            "--- 最大値 ---\n",
            "16.0\n",
            "--- 最小値 ---\n",
            "11.0\n"
          ]
        }
      ],
      "source": [
        "a = torch.tensor([[11, 12, 13],\n",
        "                  [14, 15, 16.]])\n",
        "\n",
        "print(\"--- 平均値（関数） ---\")\n",
        "m = torch.mean(a)\n",
        "print(m, type(m))\n",
        "print(m.item())  # item()で値を取り出す\n",
        "\n",
        "print(\"--- 平均値（メソッド） ---\")\n",
        "m = a.mean()\n",
        "print(m.item())\n",
        "\n",
        "print(\"--- 列ごとの平均値 ---\")\n",
        "print(a.mean(0))\n",
        "\n",
        "print(\"--- 合計値 ---\")\n",
        "print(torch.sum(a).item())\n",
        "\n",
        "print(\"--- 最大値 ---\")\n",
        "print(torch.max(a).item())\n",
        "\n",
        "print(\"--- 最小値 ---\")\n",
        "print(torch.min(a).item())"
      ]
    },
    {
      "attachments": {},
      "cell_type": "markdown",
      "metadata": {
        "id": "jYlvxRRcDqTa"
      },
      "source": [
        "今回扱ったTensorの機能はごく一部です。  \n",
        "詳しくは、以下の公式ドキュメントを参考にしてください。  \n",
        "https://pytorch.org/docs/stable/tensors.html"
      ]
    }
  ],
  "metadata": {
    "colab": {
      "authorship_tag": "ABX9TyMHdtWgT78bQQ9mNlU7BioR",
      "collapsed_sections": [],
      "include_colab_link": true,
      "name": "01_tensor.ipynb",
      "provenance": []
    },
    "kernelspec": {
      "display_name": "Python 3",
      "name": "python3"
    },
    "language_info": {
      "codemirror_mode": {
        "name": "ipython",
        "version": 3
      },
      "file_extension": ".py",
      "mimetype": "text/x-python",
      "name": "python",
      "nbconvert_exporter": "python",
      "pygments_lexer": "ipython3",
      "version": "3.11.4"
    }
  },
  "nbformat": 4,
  "nbformat_minor": 0
}
