{
  "cells": [
    {
      "attachments": {},
      "cell_type": "markdown",
      "metadata": {
        "colab_type": "text",
        "id": "view-in-github"
      },
      "source": [
        "<a href=\"https://colab.research.google.com/github/yukinaga/image_classification/blob/main/section_2/02_cnn.ipynb\" target=\"_parent\"><img src=\"https://colab.research.google.com/assets/colab-badge.svg\" alt=\"Open In Colab\"/></a>"
      ]
    },
    {
      "attachments": {},
      "cell_type": "markdown",
      "metadata": {},
      "source": [
        "# 学習時の実行速度の調査\n",
        "\n",
        "|device|実行時間|\n",
        "|----|----|\n",
        "|m1 mac|5m 2.1s|\n",
        "|ryzen 7950x||\n",
        "|rtx 3060 12GB|3m 10.6s|"
      ]
    },
    {
      "attachments": {},
      "cell_type": "markdown",
      "metadata": {
        "id": "Niaz8_W6OX34"
      },
      "source": [
        "# CNNの実装\n",
        "PyTorchを使って、畳み込みニューラルネットワーク（CNN）を実装します。  \n",
        "CNN自体はCNNの層を追加するのみで実装可能なのですが、今回はデータ拡張とドロップアウトの実装も行います。  \n",
        "学習に時間がかかるので、「編集」→「ノートブックの設定」の「ハードウェアアクセラレーター」で「GPU」を選択しましょう。"
      ]
    },
    {
      "cell_type": "code",
      "execution_count": 1,
      "metadata": {},
      "outputs": [
        {
          "name": "stdout",
          "output_type": "stream",
          "text": [
            "True\n",
            "NVIDIA GeForce RTX 3060\n"
          ]
        }
      ],
      "source": [
        "# GPUが使用可能か確認\n",
        "import torch\n",
        "\n",
        "print(torch.cuda.is_available())\n",
        "print(torch.cuda.get_device_name())"
      ]
    },
    {
      "attachments": {},
      "cell_type": "markdown",
      "metadata": {
        "id": "vsncPqQ-gZJr"
      },
      "source": [
        "## データの前処理\n",
        "ここからCNNを実装します。  \n",
        "データ拡張として、回転とリサイズ、および左右反転を行います。  \n",
        "また、学習が効率的になるように入力の平均値を0、標準偏差を1にします（標準化）。  \n",
        "DataLoaderは、訓練データ、テストデータそれぞれで設定します。"
      ]
    },
    {
      "cell_type": "code",
      "execution_count": 2,
      "metadata": {
        "id": "7t3NRHjhKyC0"
      },
      "outputs": [
        {
          "name": "stdout",
          "output_type": "stream",
          "text": [
            "Files already downloaded and verified\n",
            "Files already downloaded and verified\n"
          ]
        }
      ],
      "source": [
        "from torchvision.datasets import CIFAR10\n",
        "import torchvision.transforms as transforms\n",
        "from torch.utils.data import DataLoader\n",
        "\n",
        "affine = transforms.RandomAffine([-30, 30], scale=(0.8, 1.2))  # 回転とリサイズ\n",
        "flip = transforms.RandomHorizontalFlip(p=0.5)  # 左右反転\n",
        "normalize = transforms.Normalize((0.0, 0.0, 0.0), (1.0, 1.0, 1.0))  # 平均値を0、標準偏差を1に\n",
        "to_tensor = transforms.ToTensor()\n",
        "\n",
        "transform_train = transforms.Compose([affine, flip, to_tensor, normalize])\n",
        "transform_test = transforms.Compose([to_tensor, normalize])\n",
        "cifar10_train = CIFAR10(\"./data\", train=True, download=True, transform=transform_train)\n",
        "cifar10_test = CIFAR10(\"./data\", train=False, download=True, transform=transform_test)\n",
        "\n",
        "# DataLoaderの設定\n",
        "batch_size = 64\n",
        "train_loader = DataLoader(cifar10_train, batch_size=batch_size, shuffle=True)\n",
        "test_loader = DataLoader(cifar10_test, batch_size=batch_size, shuffle=False)"
      ]
    },
    {
      "attachments": {},
      "cell_type": "markdown",
      "metadata": {
        "id": "FalXNYaJPkoE"
      },
      "source": [
        "## モデルの構築\n",
        "`nn.Module`モジュールを継承したクラスとして、CNNのモデルを構築します。  \n",
        "今回は、全結合層にニューロンをランダムに削除する「ドロップアウト」を導入します。  \n",
        "ドロップアウトを導入することで、未知のデータに対してより頑強になるようにモデルを訓練することができます。    "
      ]
    },
    {
      "cell_type": "code",
      "execution_count": 3,
      "metadata": {
        "id": "SuqqZmsh_jNK"
      },
      "outputs": [
        {
          "name": "stdout",
          "output_type": "stream",
          "text": [
            "Net(\n",
            "  (conv1): Conv2d(3, 6, kernel_size=(5, 5), stride=(1, 1))\n",
            "  (relu): ReLU()\n",
            "  (pool): MaxPool2d(kernel_size=2, stride=2, padding=0, dilation=1, ceil_mode=False)\n",
            "  (conv2): Conv2d(6, 16, kernel_size=(5, 5), stride=(1, 1))\n",
            "  (fc1): Linear(in_features=400, out_features=256, bias=True)\n",
            "  (dropout): Dropout(p=0.5, inplace=False)\n",
            "  (fc2): Linear(in_features=256, out_features=10, bias=True)\n",
            ")\n"
          ]
        }
      ],
      "source": [
        "import torch.nn as nn\n",
        "\n",
        "class Net(nn.Module):\n",
        "    def __init__(self):\n",
        "        super().__init__()\n",
        "        self.conv1 = nn.Conv2d(3, 6, 5)  # 畳み込み層:(入力チャンネル数, フィルタ数, フィルタサイズ)\n",
        "        self.relu = nn.ReLU()  # ReLU\n",
        "        self.pool = nn.MaxPool2d(2, 2)  # プーリング層:（領域のサイズ, 領域の間隔）\n",
        "        self.conv2 = nn.Conv2d(6, 16, 5)\n",
        "        self.fc1 = nn.Linear(16*5*5, 256)  # 全結合層\n",
        "        self.dropout = nn.Dropout(p=0.5)  # ドロップアウト:(p=ドロップアウト率)\n",
        "        self.fc2 = nn.Linear(256, 10)\n",
        "\n",
        "    def forward(self, x):\n",
        "        x = self.relu(self.conv1(x))\n",
        "        x = self.pool(x)\n",
        "        x = self.relu(self.conv2(x))\n",
        "        x = self.pool(x)\n",
        "        x = x.view(-1, 16*5*5)\n",
        "        x = self.relu(self.fc1(x))\n",
        "        x = self.dropout(x)\n",
        "        x = self.fc2(x)\n",
        "        return x\n",
        "\n",
        "net = Net()\n",
        "net.cuda()  # GPU対応\n",
        "print(net)"
      ]
    },
    {
      "attachments": {},
      "cell_type": "markdown",
      "metadata": {
        "id": "bRrRNmeWoZp_"
      },
      "source": [
        "各層で、画像のサイズ(チャンネル数, 画像高さ, 画像幅)\n",
        "は以下の通りに変化します。  \n",
        "  \n",
        "入力画像: (3, 32, 32)  \n",
        "↓  \n",
        "nn.Conv2d(3, 6, 5): (6, 28, 28)  \n",
        "↓  \n",
        "nn.MaxPool2d(2, 2): (6, 14, 14)  \n",
        "↓  \n",
        "nn.Conv2d(6, 16, 5): (16, 10, 10)  \n",
        "↓  \n",
        "nn.MaxPool2d(2, 2): (16, 5, 5)  \n",
        "  \n",
        "画像の高さおよび幅は、以下の式を使って計算しました。  \n",
        "\n",
        "$$O_h=\\frac{I_h-F_h+2D}{S}+1$$\n",
        "$$O_w=\\frac{I_w-F_w+2D}{S}+1$$\n",
        "\n",
        "$O_h$、$O_w$: 出力画像の高さ、幅  \n",
        "$I_h$、$I_w$: 入力画像の高さ、幅  \n",
        "$F_h$、$F_w$: フィルタの高さ、幅  \n",
        "$D$: パディング  \n",
        "$S$: ストライド  \n",
        "  \n",
        "今回、全ての畳み込み層でパディングは0、ストライドは1となっています。  "
      ]
    },
    {
      "attachments": {},
      "cell_type": "markdown",
      "metadata": {
        "id": "qsW5zCKhQE9p"
      },
      "source": [
        "## 学習\n",
        "モデルを訓練します。  \n",
        "DataLoaderを使い、ミニバッチを取り出して訓練および評価を行います。  "
      ]
    },
    {
      "cell_type": "code",
      "execution_count": 4,
      "metadata": {
        "id": "u6zwN3nArbGC"
      },
      "outputs": [
        {
          "name": "stdout",
          "output_type": "stream",
          "text": [
            "Epoch: 0 Loss_Train: 1.8206663714040576 Loss_Test: 1.545305772951454\n",
            "Epoch: 1 Loss_Train: 1.5912694860907162 Loss_Test: 1.45716179859866\n",
            "Epoch: 2 Loss_Train: 1.517097485339855 Loss_Test: 1.3563640011343987\n",
            "Epoch: 3 Loss_Train: 1.4624055820657773 Loss_Test: 1.3364612160214953\n",
            "Epoch: 4 Loss_Train: 1.4388569712333972 Loss_Test: 1.323048110980137\n",
            "Epoch: 5 Loss_Train: 1.4162679613398774 Loss_Test: 1.252759016623163\n",
            "Epoch: 6 Loss_Train: 1.3975079896504923 Loss_Test: 1.2983607816848026\n",
            "Epoch: 7 Loss_Train: 1.3784699773087221 Loss_Test: 1.2285382428746314\n",
            "Epoch: 8 Loss_Train: 1.3660958836145718 Loss_Test: 1.2429239275349173\n",
            "Epoch: 9 Loss_Train: 1.3561434280841858 Loss_Test: 1.1995197276400913\n",
            "Epoch: 10 Loss_Train: 1.343467618498351 Loss_Test: 1.1939582847485877\n",
            "Epoch: 11 Loss_Train: 1.3418528651794814 Loss_Test: 1.1689308900742015\n",
            "Epoch: 12 Loss_Train: 1.3241954026624674 Loss_Test: 1.167021232425787\n",
            "Epoch: 13 Loss_Train: 1.3209698703282935 Loss_Test: 1.2075360178188155\n",
            "Epoch: 14 Loss_Train: 1.3087403034919973 Loss_Test: 1.1342610500420733\n",
            "Epoch: 15 Loss_Train: 1.3101249857022024 Loss_Test: 1.1362318985021798\n",
            "Epoch: 16 Loss_Train: 1.3078481669316206 Loss_Test: 1.1210174218864197\n",
            "Epoch: 17 Loss_Train: 1.2937327759802495 Loss_Test: 1.1219963317464112\n",
            "Epoch: 18 Loss_Train: 1.28679656304057 Loss_Test: 1.1116337252270645\n",
            "Epoch: 19 Loss_Train: 1.2940923962599176 Loss_Test: 1.1415496677350088\n"
          ]
        }
      ],
      "source": [
        "from torch import optim\n",
        "\n",
        "# 交差エントロピー誤差関数\n",
        "loss_fnc = nn.CrossEntropyLoss()\n",
        "\n",
        "# 最適化アルゴリズム\n",
        "optimizer = optim.Adam(net.parameters())\n",
        "\n",
        "# 損失のログ\n",
        "record_loss_train = []\n",
        "record_loss_test = []\n",
        "\n",
        "# 学習\n",
        "for i in range(20):  # 20エポック学習\n",
        "    net.train()  # 訓練モード\n",
        "    loss_train = 0\n",
        "    for j, (x, t) in enumerate(train_loader):  # ミニバッチ（x, t）を取り出す\n",
        "        x, t = x.cuda(), t.cuda()  # GPU対応\n",
        "        y = net(x)\n",
        "        loss = loss_fnc(y, t)\n",
        "        loss_train += loss.item()\n",
        "        optimizer.zero_grad()\n",
        "        loss.backward()\n",
        "        optimizer.step()\n",
        "    loss_train /= j+1\n",
        "    record_loss_train.append(loss_train)\n",
        "\n",
        "    net.eval()  # 評価モード\n",
        "    loss_test = 0\n",
        "    for j, (x, t) in enumerate(test_loader):  # ミニバッチ（x, t）を取り出す\n",
        "        x, t = x.cuda(), t.cuda()\n",
        "        y = net(x)\n",
        "        loss = loss_fnc(y, t)\n",
        "        loss_test += loss.item()\n",
        "    loss_test /= j+1\n",
        "    record_loss_test.append(loss_test)\n",
        "\n",
        "    if i%1 == 0:\n",
        "        print(\"Epoch:\", i, \"Loss_Train:\", loss_train, \"Loss_Test:\", loss_test)"
      ]
    },
    {
      "attachments": {},
      "cell_type": "markdown",
      "metadata": {
        "id": "rJwwrWTw43rx"
      },
      "source": [
        "## 誤差の推移\n",
        "訓練データ、テストデータで誤差の推移をグラフ表示します。  "
      ]
    },
    {
      "cell_type": "code",
      "execution_count": 5,
      "metadata": {
        "id": "OaJx4swE45XI"
      },
      "outputs": [
        {
          "data": {
            "image/png": "[encoded data removed]",
            "text/plain": [
              "<Figure size 640x480 with 1 Axes>"
            ]
          },
          "metadata": {},
          "output_type": "display_data"
        }
      ],
      "source": [
        "import matplotlib.pyplot as plt\n",
        "\n",
        "plt.plot(range(len(record_loss_train)), record_loss_train, label=\"Train\")\n",
        "plt.plot(range(len(record_loss_test)), record_loss_test, label=\"Test\")\n",
        "plt.legend()\n",
        "\n",
        "plt.xlabel(\"Epochs\")\n",
        "plt.ylabel(\"Error\")\n",
        "plt.show()"
      ]
    },
    {
      "attachments": {},
      "cell_type": "markdown",
      "metadata": {
        "id": "iMrpac0m4Nct"
      },
      "source": [
        "## 正解率\n",
        "モデルの性能を把握するため、テストデータ使い正解率を測定します。  "
      ]
    },
    {
      "cell_type": "code",
      "execution_count": 6,
      "metadata": {
        "id": "IRkGCYMM_N35"
      },
      "outputs": [
        {
          "name": "stdout",
          "output_type": "stream",
          "text": [
            "正解率: 59.63%\n"
          ]
        }
      ],
      "source": [
        "correct = 0\n",
        "total = 0\n",
        "net.eval()  # 評価モード\n",
        "for i, (x, t) in enumerate(test_loader):\n",
        "    x, t = x.cuda(), t.cuda()  # GPU対応\n",
        "    y = net(x)\n",
        "    correct += (y.argmax(1) == t).sum().item()\n",
        "    total += len(x)\n",
        "print(\"正解率:\", str(correct/total*100) + \"%\")"
      ]
    },
    {
      "attachments": {},
      "cell_type": "markdown",
      "metadata": {
        "id": "LrRAJzwD4zpN"
      },
      "source": [
        "## 訓練済みのモデルを使った予測\n",
        "訓練済みのモデルを使ってみましょう。  \n",
        "画像を入力し、モデルが機能していることを確かめます。"
      ]
    },
    {
      "cell_type": "code",
      "execution_count": 7,
      "metadata": {
        "id": "Pdy9nPckTDik"
      },
      "outputs": [
        {
          "data": {
            "image/png": "[encoded data removed]",
            "text/plain": [
              "<Figure size 640x480 with 1 Axes>"
            ]
          },
          "metadata": {},
          "output_type": "display_data"
        },
        {
          "name": "stdout",
          "output_type": "stream",
          "text": [
            "正解: deer 予測結果: frog\n"
          ]
        }
      ],
      "source": [
        "cifar10_classes = [\"airplane\", \"automobile\", \"bird\",\n",
        "                   \"cat\", \"deer\", \"dog\", \"frog\",\n",
        "                   \"horse\", \"ship\", \"truck\"]\n",
        "\n",
        "cifar10_loader = DataLoader(cifar10_test, batch_size=1, shuffle=True)\n",
        "dataiter = iter(cifar10_loader)\n",
        "images, labels = next(dataiter)  # サンプルを1つだけ取り出す\n",
        "\n",
        "plt.imshow(images[0].permute(1, 2, 0))  # 一番後の次元をチャンネルに\n",
        "plt.tick_params(labelbottom=False, labelleft=False, bottom=False, left=False)  # ラベルとメモリを非表示に\n",
        "plt.show()\n",
        "\n",
        "net.eval()  # 評価モード\n",
        "x, t = images.cuda(), labels.cuda()  # GPU対応\n",
        "y = net(x)\n",
        "print(\"正解:\", cifar10_classes[labels[0]],\n",
        "      \"予測結果:\", cifar10_classes[y.argmax().item()])"
      ]
    }
  ],
  "metadata": {
    "accelerator": "GPU",
    "colab": {
      "include_colab_link": true,
      "provenance": []
    },
    "kernelspec": {
      "display_name": "Python 3",
      "name": "python3"
    },
    "language_info": {
      "codemirror_mode": {
        "name": "ipython",
        "version": 3
      },
      "file_extension": ".py",
      "mimetype": "text/x-python",
      "name": "python",
      "nbconvert_exporter": "python",
      "pygments_lexer": "ipython3",
      "version": "3.11.4"
    }
  },
  "nbformat": 4,
  "nbformat_minor": 0
}
